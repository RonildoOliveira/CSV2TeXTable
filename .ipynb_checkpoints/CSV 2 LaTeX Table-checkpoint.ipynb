{
 "cells": [
  {
   "cell_type": "code",
   "execution_count": 65,
   "metadata": {},
   "outputs": [
    {
     "ename": "SyntaxError",
     "evalue": "invalid syntax (<ipython-input-65-f5d36149bd49>, line 44)",
     "output_type": "error",
     "traceback": [
      "\u001b[0;36m  File \u001b[0;32m\"<ipython-input-65-f5d36149bd49>\"\u001b[0;36m, line \u001b[0;32m44\u001b[0m\n\u001b[0;31m    row[i] = str(row[i]).replace('&', '\\&'))\u001b[0m\n\u001b[0m                                           ^\u001b[0m\n\u001b[0;31mSyntaxError\u001b[0m\u001b[0;31m:\u001b[0m invalid syntax\n"
     ]
    }
   ],
   "source": [
    "import csv\n",
    "import logging\n",
    "import os\n",
    "import subprocess\n",
    "\n",
    "class CSV2TEX:\n",
    "    def __init__(self, csv_filename, latex_filename):\n",
    "        self.csv_filename = csv_filename\n",
    "        self.latex_filename = latex_filename\n",
    "        \n",
    "        content = ''\n",
    "    \n",
    "    def load_csv():\n",
    "        pass\n",
    "    \n",
    "    def generate_document_header(self):\n",
    "        doc_header = '\\\\documentclass[12pt]{article} \\n'\n",
    "        doc_header += '\\\\begin{document} \\n'\n",
    "        \n",
    "        return doc_header\n",
    "    \n",
    "    def generate_table_header(self, csv_filename):\n",
    "        with open(csv_filename, 'r') as csvFile:\n",
    "            reader = csv.reader(csvFile)\n",
    "            hd = '|'\n",
    "            for row in reader:\n",
    "                for l in range(len(row)):\n",
    "                        hd += 'l|'\n",
    "                break\n",
    "                \n",
    "        header =  '\\\\begin{table}[] \\n'\n",
    "        header += '\\\\begin{tabular}{'+hd+'} \\n'\n",
    "        header += '\\hline \\n'\n",
    "\n",
    "        return header\n",
    "    \n",
    "    def generate_table_content(self, csv_filename):\n",
    "        with open(csv_filename, 'r') as csvFile:\n",
    "            table_content = ''\n",
    "            reader = csv.reader(csvFile)\n",
    "            for row in reader:\n",
    "                for ind_pct in range(len(row)):\n",
    "                    if('&' in row[i]):\n",
    "                        row[i] = str(row[i]).replace('&', '\\&')\n",
    "                        \n",
    "                separador = ' &'\n",
    "                x = ''.join(''.join(p) for p in zip(row,[separador]*len(row)))\n",
    "                table_content+=x[:-1].replace('\\\"','').replace('%', '\\%').replace('_','\\_')\n",
    "                table_content += ' \\\\\\ \\hline \\n'\n",
    "        csvFile.close()\n",
    "        #logging.info(table_content)\n",
    "        \n",
    "        return table_content\n",
    "    \n",
    "    def generate_table_footer(self):\n",
    "        footer = '\\\\end{tabular}\\n'\n",
    "        footer += '\\\\end{table} \\n'\n",
    "\n",
    "        return footer\n",
    "\n",
    "    def generate_document_footer(self):\n",
    "        doc_footer='\\end{document} \\n'\n",
    "        return doc_footer\n",
    "    \n",
    "    def to_string(self, csv_filename):\n",
    "        content =  self.generate_document_header()\n",
    "        content += self.generate_table_header(csv_filename)\n",
    "        content += self.generate_table_content(csv_filename)\n",
    "        content += self.generate_table_footer()\n",
    "        content += self.generate_document_footer()\n",
    "\n",
    "        return content\n",
    "    \n",
    "    def get_output(self, command):\n",
    "        proc = subprocess.Popen([command], stdout=subprocess.PIPE, shell=True)\n",
    "        (out, err) = proc.communicate()\n",
    "        \n",
    "        return out\n",
    "    \n",
    "    def generate_pdf_file(self):        \n",
    "        text_file = open(self.latex_filename, 'w')\n",
    "        text_file.write(self.to_string(csv_filename))\n",
    "        text_file.close()\n",
    "\n",
    "        command = 'pdflatex '+ self.latex_filename\n",
    "        #os.system(command)\n",
    "        \n",
    "        print(self.get_output(command))\n",
    "        #return output"
   ]
  },
  {
   "cell_type": "code",
   "execution_count": 64,
   "metadata": {},
   "outputs": [
    {
     "name": "stdout",
     "output_type": "stream",
     "text": [
      "Tencent-DPPR Team \\& USTB-PRIR\n",
      "b\"This is pdfTeX, Version 3.14159265-2.6-1.40.18 (TeX Live 2017/Debian) (preloaded format=pdflatex)\\n restricted \\\\write18 enabled.\\nentering extended mode\\n(./tabela.tex\\nLaTeX2e <2017-04-15>\\nBabel <3.18> and hyphenation patterns for 8 language(s) loaded.\\n(/usr/share/texlive/texmf-dist/tex/latex/base/article.cls\\nDocument Class: article 2014/09/29 v1.4h Standard LaTeX document class\\n(/usr/share/texlive/texmf-dist/tex/latex/base/size12.clo)) (./tabela.aux)\\n\\nLaTeX Warning: No positions in optional float specifier.\\n               Default added (so using `tbp') on input line 3.\\n\\n! Extra alignment tab has been changed to \\\\cr.\\n<recently read> \\\\endtemplate \\n                             \\nl.9 ... & USTB-PRIR &4,022.12 &36.91\\\\% &1,233.46 &\\n                                                  70.83\\\\%  \\\\\\\\ \\\\hline\\n? \\n! Emergency stop.\\n<recently read> \\\\endtemplate \\n                             \\nl.9 ... & USTB-PRIR &4,022.12 &36.91\\\\% &1,233.46 &\\n                                                  70.83\\\\%  \\\\\\\\ \\\\hline\\n!  ==> Fatal error occurred, no output PDF file produced!\\nTranscript written on tabela.log.\\n\"\n"
     ]
    }
   ],
   "source": [
    "latex_filename = 'tabela.tex'\n",
    "csv_filename = 'people.csv'\n",
    "p1 = CSV2TEX(csv_filename, latex_filename)\n",
    "\n",
    "p1.generate_pdf_file()"
   ]
  },
  {
   "cell_type": "code",
   "execution_count": 52,
   "metadata": {},
   "outputs": [
    {
     "name": "stdout",
     "output_type": "stream",
     "text": [
      "|l|l|l|l|l|l|l|l|l|\n"
     ]
    }
   ],
   "source": [
    "with open(csv_filename, 'r') as csvFile:\n",
    "    table_content = ''\n",
    "    reader = csv.reader(csvFile)\n",
    "    header = '|'\n",
    "    for row in reader:\n",
    "        for l in range(len(row)):\n",
    "                header += 'l|'\n",
    "        break\n",
    "        \n",
    "print(header)"
   ]
  },
  {
   "cell_type": "code",
   "execution_count": 59,
   "metadata": {},
   "outputs": [],
   "source": [
    "l = ['Tencent-DPPR Team & USTB-PRIR', '4,022.12', '36.91%', '1,233.46', '70.83%']"
   ]
  },
  {
   "cell_type": "code",
   "execution_count": 62,
   "metadata": {},
   "outputs": [
    {
     "name": "stdout",
     "output_type": "stream",
     "text": [
      "Tencent-DPPR Team \\& USTB-PRIR\n"
     ]
    }
   ],
   "source": [
    "for i in l:\n",
    "    if('&' in str(i)):\n",
    "        print(str(i).replace('&', '\\&'))\n",
    "        "
   ]
  },
  {
   "cell_type": "code",
   "execution_count": 43,
   "metadata": {},
   "outputs": [
    {
     "data": {
      "text/plain": [
       "['3', '4', '1', '\\\\&', '5', '5']"
      ]
     },
     "execution_count": 43,
     "metadata": {},
     "output_type": "execute_result"
    }
   ],
   "source": [
    "ro"
   ]
  },
  {
   "cell_type": "code",
   "execution_count": null,
   "metadata": {},
   "outputs": [],
   "source": []
  }
 ],
 "metadata": {
  "kernelspec": {
   "display_name": "Python 3",
   "language": "python",
   "name": "python3"
  },
  "language_info": {
   "codemirror_mode": {
    "name": "ipython",
    "version": 3
   },
   "file_extension": ".py",
   "mimetype": "text/x-python",
   "name": "python",
   "nbconvert_exporter": "python",
   "pygments_lexer": "ipython3",
   "version": "3.6.7"
  }
 },
 "nbformat": 4,
 "nbformat_minor": 2
}
